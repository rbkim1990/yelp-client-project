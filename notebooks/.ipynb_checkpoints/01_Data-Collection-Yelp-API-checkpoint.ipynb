{
 "cells": [
  {
   "cell_type": "markdown",
   "metadata": {},
   "source": [
    "<img src=\"http://imgur.com/1ZcRyrc.png\" style=\"float: left; margin: 20px; height: 70px\">\n",
    "\n",
    "# Client Project: Estimating Neighborhood Affluence with Yelp\n",
    "\n",
    "<i>\n",
    "                \n",
    "                Submitted by Shannon Bingham and Roy Kim\n",
    "</i>\n",
    "\n",
    " \n",
    "## Problem Statement\n",
    "The goal of the project is to estimate the affluence of a neighborhood based on the number of `$` of businesses and services (according to Yelp) in a given neighborhood (`$`, `$$`, `$$$`, `$$$$`). The project takes a list of zip codes as input and estimates the wealth of the locality. While traditional methods typically estimate wealth of a locality based on demographic characteristics (e.g. income or unemployment rate), the novelty of this approach is in its use of big data related to commercial activity and cost of product and services as an indicator for affluency.\n",
    "\n",
    "## Notebook Description\n",
    "This notebook contains python code that is used to make JSON requests to Yelp and return: \n",
    "- selected business data \n",
    "- summary price and rating data\n",
    "\n",
    "## Data\n",
    "\n",
    "#### Data Source\n",
    "| File Name | Description | Source |\n",
    "| :------------ | :------------ | :------------ |\n",
    "| API |Yelp business data for one zip code |  [www.yelp.com](https://api.yelp.com/v3/businesses/search) | \n",
    "\n",
    "#### Data Dictionary\n",
    "| Output | Description | File Name |\n",
    "| :------------ | :-------------- | :-------------- |\n",
    "| name | Business name | yelp.api.zip{zip}.csv |\n",
    "| price | Relative price charged (`$`, `$$`, `$$$`, `$$$$`) | yelp.api.zip{zip}.csv |\n",
    "| rating | Rating assigned by users (1-5, incl halves) | yelp.api.zip{zip}.csv |\n",
    "| review_count | Number of reviews by users | yelp.api.zip{zip}.csv |\n",
    "| categories | Keywords used for search (list) | yelp.api.zip{zip}.csv \n",
    "| zipcode | 5-digit Zip code | yelp.summary.zip{zip}.csv |\n",
    "| n_business | Number of businesses | yelp.summary.zip{zip}.csv |\n",
    "| n_dn`$` | Number of businesses with price `$`-`$$$$` (where n`$` is 1-4 | yelp.summary.zip{zip}.csv |\n",
    "| n_review | Number of user reviews | yelp.summary.zip{zip}.csv |\n",
    "| n_dn`S` | Number of businesses with rating of 1 - 5 stars, incl. halves (where n`S` is the number of stars | yelp.summary.zip{zip}.csv |\n"
   ]
  },
  {
   "cell_type": "markdown",
   "metadata": {},
   "source": [
    "## Set up environment."
   ]
  },
  {
   "cell_type": "code",
   "execution_count": null,
   "metadata": {},
   "outputs": [],
   "source": [
    "# Install yelp-python.\n",
    "# !pip install yelp"
   ]
  },
  {
   "cell_type": "code",
   "execution_count": null,
   "metadata": {},
   "outputs": [],
   "source": [
    "# Import libraries.\n",
    "import requests\n",
    "import time\n",
    "import pandas as pd\n",
    "import random\n",
    "import json\n",
    "import pprint\n",
    "import requests\n",
    "from select_zips import random_zips\n",
    "\n",
    "# Set random seed.\n",
    "random.seed(42)"
   ]
  },
  {
   "cell_type": "markdown",
   "metadata": {},
   "source": [
    "## Request business data from yelp website using API.\n",
    "\n",
    "Note that this notebook is set up to use a free version of the API.  The api_key has been removed from the notebook.  In order to execute this code, a new key will need to be provided (directions are located at [www.yelp.com/developers](https://www.yelp.com/developers)).  Because of limitations with the API, this code has been set up to process a single zipcode at a time.    "
   ]
  },
  {
   "cell_type": "code",
   "execution_count": null,
   "metadata": {},
   "outputs": [],
   "source": [
    "# The list of Wisconsin Zip codes is provided here\n",
    "wi_zip_codes = pd.read_csv('../data/WIzips.csv').iloc[:,0].tolist()"
   ]
  },
  {
   "cell_type": "code",
   "execution_count": null,
   "metadata": {},
   "outputs": [],
   "source": [
    "# To run the method to obtain 50 random zip codes from the following script,\n",
    "# need a Yelp API key\n",
    "key = # insert Yelp API key here as a string"
   ]
  },
  {
   "cell_type": "code",
   "execution_count": null,
   "metadata": {},
   "outputs": [],
   "source": [
    "# Using the Python script to obtain 50 random zip codes from WI\n",
    "# with number of businesses between 50 and 1000\n",
    "zip_list = random_zips(wi_zip_codes, 50, key)"
   ]
  },
  {
   "cell_type": "code",
   "execution_count": null,
   "metadata": {},
   "outputs": [],
   "source": [
    "zip_list"
   ]
  },
  {
   "cell_type": "code",
   "execution_count": null,
   "metadata": {},
   "outputs": [],
   "source": [
    "# Set location to select. \n",
    "zipcode = '54521'\n",
    "\n",
    "# Set starting point.\n",
    "offset = 0"
   ]
  },
  {
   "cell_type": "code",
   "execution_count": 140,
   "metadata": {},
   "outputs": [],
   "source": [
    "np.random.seed(42)"
   ]
  },
  {
   "cell_type": "code",
   "execution_count": null,
   "metadata": {},
   "outputs": [],
   "source": [
    "# Function: get_details\n",
    "# Gets the details of each business in the json data.  \n",
    "# Returns the details in a list. \n",
    "def get_details(the_json, keys):\n",
    "\n",
    "    # Initialize list.\n",
    "    get_data = []\n",
    "\n",
    "    # Loop through the entries for selected dictionary key values.\n",
    "    for i in range(len(the_json['businesses'])):\n",
    "        \n",
    "        get_data.extend([{k : the_json['businesses'][i][k] \n",
    "                         for k in keys\n",
    "                         if the_json['businesses'][i].get(k) is not None}])\n",
    "        \n",
    "    # Return details.\n",
    "    return get_data"
   ]
  },
  {
   "cell_type": "code",
   "execution_count": null,
   "metadata": {},
   "outputs": [],
   "source": [
    "# Set up API call variables.\n",
    "api_key = \"\"\n",
    "\n",
    "headers = {'Authorization': 'Bearer %s' % api_key}\n",
    "url = 'https://api.yelp.com/v3/businesses/search'\n",
    "\n",
    "# Set details (dictionary keys) to select.  \n",
    "select_keys = ['name', 'price', 'rating', 'review_count', \n",
    "           'categories']\n",
    "\n",
    "# Initialize list to hold all selected business data.\n",
    "api_zip_data = []\n",
    "\n",
    "# Calculate end of range for request processing due to yelp limit.\n",
    "end = offset + 1000\n",
    "\n",
    "# Print progress message.\n",
    "print(url)\n",
    "print('Request processing starting')\n",
    "\n",
    "# Make maximum number of requests.\n",
    "for o in range(offset, end, 50):\n",
    "    \n",
    "    # Set parameters for API call.\n",
    "    params = {\n",
    "        'limit': 50, \n",
    "        'location': zipcode.replace(' ', '+'),\n",
    "        'is_closed': False,\n",
    "        'offset': o\n",
    "    }\n",
    "\n",
    "    # Make request.   \n",
    "    response = requests.get(url, headers=headers, params=params)\n",
    "    \n",
    "    # Process response.\n",
    "    if response.status_code == 200:     # successful request\n",
    "        \n",
    "        # Save response.\n",
    "        the_json = response.json()\n",
    "        \n",
    "        # Print progress message.\n",
    "        if o == 0:\n",
    "            print('Total records for zip code {} is {}'.format(\n",
    "                zipcode, the_json['total']))\n",
    "        print(f'Retrieving records {o}-{o+49} ...')\n",
    "        \n",
    "        # Get the business details from response.\n",
    "        api_zip_data.extend(get_details(the_json, select_keys))\n",
    "        \n",
    "        # Stop if reached total number of records.\n",
    "        if o >= the_json['total']:\n",
    "            break\n",
    "        \n",
    "    else:                               # unsuccessful request\n",
    "        print('Processing ended unexpectedly.') \n",
    "        print('Request.get response is ', response.status_code)\n",
    "        break\n",
    "        \n",
    "     # Wait.\n",
    "    time.sleep(3)\n",
    "         \n",
    "# Print progress message.\n",
    "print('Request processing ended')"
   ]
  },
  {
   "cell_type": "markdown",
   "metadata": {},
   "source": [
    "## Clean data."
   ]
  },
  {
   "cell_type": "code",
   "execution_count": null,
   "metadata": {},
   "outputs": [],
   "source": [
    "# Load posts to a dataframe.\n",
    "api_zip = pd.DataFrame(api_zip_data, columns = select_keys)\n",
    "\n",
    "# Verify load.\n",
    "api_zip.shape"
   ]
  },
  {
   "cell_type": "code",
   "execution_count": null,
   "metadata": {},
   "outputs": [],
   "source": [
    "# Insert zip code.\n",
    "api_zip.insert(loc=0, column='zipcode', value=zipcode)\n",
    "\n",
    "# Verify update.\n",
    "api_zip.head()"
   ]
  },
  {
   "cell_type": "code",
   "execution_count": null,
   "metadata": {},
   "outputs": [],
   "source": [
    "# Drop duplicates.\n",
    "api_zip.drop_duplicates(subset=['name', 'price', 'rating', 'review_count'],\n",
    "                                          inplace=True)\n",
    "\n",
    "# Verify drop.\n",
    "api_zip.shape"
   ]
  },
  {
   "cell_type": "code",
   "execution_count": null,
   "metadata": {},
   "outputs": [],
   "source": [
    "# Drop observations with null price.\n",
    "\n",
    "# Count number of nulls.\n",
    "print(sum(api_zip.isnull().sum()))\n",
    "\n",
    "# Drop.\n",
    "api_zip.dropna(subset = ['price'], inplace=True)\n",
    "\n",
    "# Verify drop.\n",
    "api_zip.info()"
   ]
  },
  {
   "cell_type": "code",
   "execution_count": null,
   "metadata": {},
   "outputs": [],
   "source": [
    "# Drop observations with null rating.\n",
    "\n",
    "# Count number of nulls.\n",
    "print(sum(api_zip.isnull().sum()))\n",
    "\n",
    "# Drop.\n",
    "api_zip.dropna(subset = ['rating'], inplace=True)\n",
    "\n",
    "# Verify drop.\n",
    "api_zip.info()"
   ]
  },
  {
   "cell_type": "markdown",
   "metadata": {},
   "source": [
    "## Create summary data per zip code."
   ]
  },
  {
   "cell_type": "code",
   "execution_count": null,
   "metadata": {},
   "outputs": [],
   "source": [
    "# Initialize summary data observation.\n",
    "sum_data  = {'zipcode'           : [zipcode], \n",
    "             'n_business'        : [0] ,\n",
    "             'n_d1'              : [0] ,\n",
    "             'n_d2'              : [0] , \n",
    "             'n_d3'              : [0] , \n",
    "             'n_d4'              : [0] ,\n",
    "             'n_review'          : [0] , \n",
    "             'n_s1'              : [0] ,\n",
    "             'n_s1plus'          : [0] ,\n",
    "             'n_s2'              : [0] ,\n",
    "             'n_s2plus'          : [0] ,\n",
    "             'n_s3'              : [0] ,\n",
    "             'n_s3plus'          : [0] ,\n",
    "             'n_s4'              : [0] ,\n",
    "             'n_s4plus'          : [0] , \n",
    "             'n_s5'              : [0] ,\n",
    "            }\n",
    "\n",
    "# Create summary dataframe.\n",
    "sum_zip = pd.DataFrame(data=sum_data)\n",
    "\n",
    "# Verify dataframe.\n",
    "sum_zip.head()"
   ]
  },
  {
   "cell_type": "code",
   "execution_count": null,
   "metadata": {},
   "outputs": [],
   "source": [
    "# Calculate the total number of businesses.\n",
    "sum_zip['n_business'] = len(api_zip)\n",
    "\n",
    "# Verify column.\n",
    "sum_zip['n_business']"
   ]
  },
  {
   "cell_type": "code",
   "execution_count": null,
   "metadata": {},
   "outputs": [],
   "source": [
    "# Get values of price.\n",
    "api_zip.price.value_counts().sort_index()"
   ]
  },
  {
   "cell_type": "code",
   "execution_count": null,
   "metadata": {},
   "outputs": [],
   "source": [
    "# Add number of $ to the dataframe.\n",
    "sum_zip['n_d1'] = sum(api_zip['price'] == '$')\n",
    "sum_zip['n_d2'] = sum(api_zip['price'] == '$$')\n",
    "sum_zip['n_d3'] = sum(api_zip['price'] == '$$$')\n",
    "sum_zip['n_d4'] = sum(api_zip['price'] == '$$$$')\n",
    "\n",
    "# Verify counts.\n",
    "sum_zip"
   ]
  },
  {
   "cell_type": "code",
   "execution_count": null,
   "metadata": {},
   "outputs": [],
   "source": [
    "# Calculate total number of reviews.\n",
    "sum_zip['n_review']      = sum(api_zip['review_count'])\n",
    "\n",
    "# Verify update.\n",
    "sum_zip"
   ]
  },
  {
   "cell_type": "code",
   "execution_count": null,
   "metadata": {},
   "outputs": [],
   "source": [
    "# Get values of rating.\n",
    "api_zip.rating.value_counts().sort_index()"
   ]
  },
  {
   "cell_type": "code",
   "execution_count": null,
   "metadata": {
    "scrolled": true
   },
   "outputs": [],
   "source": [
    "# Add ratings to the dataframe.\n",
    "sum_zip['n_s1']      = api_zip[api_zip['rating'] == 1]  ['review_count'].sum() \n",
    "sum_zip['n_s1plus']  = api_zip[api_zip['rating'] == 1.5]['review_count'].sum()\n",
    "sum_zip['n_s2']      = api_zip[api_zip['rating'] == 2]  ['review_count'].sum() \n",
    "sum_zip['n_s2plus']  = api_zip[api_zip['rating'] == 2.5]['review_count'].sum()\n",
    "sum_zip['n_s3']      = api_zip[api_zip['rating'] == 3]  ['review_count'].sum() \n",
    "sum_zip['n_s3plus']  = api_zip[api_zip['rating'] == 3.5]['review_count'].sum()\n",
    "sum_zip['n_s4']      = api_zip[api_zip['rating'] == 4]  ['review_count'].sum() \n",
    "sum_zip['n_s4plus']  = api_zip[api_zip['rating'] == 4.5]['review_count'].sum()\n",
    "sum_zip['n_s5']      = api_zip[api_zip['rating'] == 5]  ['review_count'].sum() \n",
    "# Verify counts.\n",
    "sum_zip"
   ]
  },
  {
   "cell_type": "markdown",
   "metadata": {},
   "source": [
    "## Save files."
   ]
  },
  {
   "cell_type": "code",
   "execution_count": null,
   "metadata": {},
   "outputs": [],
   "source": [
    "# Set file locations.\n",
    "api_zip_csv = (f'./data/yelp_api_zip{zipcode}.csv')\n",
    "sum_zip_csv  = (f'./data/yelp_summary_zip{zipcode}.csv')\n",
    "\n",
    "# Save.\n",
    "api_zip.to_csv(api_zip_csv, encoding='utf-8', index=False)\n",
    "sum_zip.to_csv(sum_zip_csv, encoding='utf-8', index=False)"
   ]
  },
  {
   "cell_type": "code",
   "execution_count": null,
   "metadata": {},
   "outputs": [],
   "source": []
  }
 ],
 "metadata": {
  "kernelspec": {
   "display_name": "Python 3",
   "language": "python",
   "name": "python3"
  },
  "language_info": {
   "codemirror_mode": {
    "name": "ipython",
    "version": 3
   },
   "file_extension": ".py",
   "mimetype": "text/x-python",
   "name": "python",
   "nbconvert_exporter": "python",
   "pygments_lexer": "ipython3",
   "version": "3.6.8"
  },
  "varInspector": {
   "cols": {
    "lenName": 16,
    "lenType": 16,
    "lenVar": 40
   },
   "kernels_config": {
    "python": {
     "delete_cmd_postfix": "",
     "delete_cmd_prefix": "del ",
     "library": "var_list.py",
     "varRefreshCmd": "print(var_dic_list())"
    },
    "r": {
     "delete_cmd_postfix": ") ",
     "delete_cmd_prefix": "rm(",
     "library": "var_list.r",
     "varRefreshCmd": "cat(var_dic_list()) "
    }
   },
   "types_to_exclude": [
    "module",
    "function",
    "builtin_function_or_method",
    "instance",
    "_Feature"
   ],
   "window_display": false
  }
 },
 "nbformat": 4,
 "nbformat_minor": 2
}
