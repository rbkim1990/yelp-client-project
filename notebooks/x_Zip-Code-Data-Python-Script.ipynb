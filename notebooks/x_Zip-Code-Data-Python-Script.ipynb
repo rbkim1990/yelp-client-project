{
 "cells": [
  {
   "cell_type": "markdown",
   "metadata": {},
   "source": [
    "<img src=\"http://imgur.com/1ZcRyrc.png\" style=\"float: left; margin: 20px; height: 55px\">\n",
    "\n",
    "# Project 4:  Using Yelp cost estimates for estimating neighborhood affluency\n",
    "\n",
    "<i>\n",
    "                \n",
    "                Submitted by Shannon Bingham and Roy Kim\n",
    "</i>\n",
    "\n",
    " \n",
    "## Problem Statement\n",
    "This tool will estimate the affluence of a neighborhood based on the number of `$` of businesses and services (according to Yelp) in a given neighborhood. (`$`, `$$`, `$$$`, `$$$$`) This tool will expect to get, as an input, a list of zip codes or names of neighborhoods and will estimate the wealth of the locality. While traditional methods typically estimate wealth of a locality based on demographic characteristics (e.g. income or unemployment rate), the novelty of this approach is in its use of big data related to commercial activity and cost of product and services as an indicator for affluency.\n",
    "\n",
    "## Notebook Description\n",
    "This notebook is used to derive the python script to obtain data by zip code from \"http://www.city-data.com\". We scrape population, cost of living, area (in sq. miles), and median income (in dollars). The output of this function is a dictionary that holds the relevant data."
   ]
  },
  {
   "cell_type": "code",
   "execution_count": 105,
   "metadata": {},
   "outputs": [],
   "source": [
    "# BeautifulSoup will be used to derive the data from the scraped requests\n",
    "# Regex is used at one point in the data to extract information from a string\n",
    "import requests\n",
    "from bs4 import BeautifulSoup\n",
    "import re"
   ]
  },
  {
   "cell_type": "code",
   "execution_count": 112,
   "metadata": {},
   "outputs": [],
   "source": [
    "def zip_data(zip):\n",
    "    # Creating an empty dictionary\n",
    "    dicto = {}\n",
    "    \n",
    "    # Using the requests library to get data from http://www.city-data.com\n",
    "    url = 'http://www.city-data.com/zips/'+str(zip)+'.html'\n",
    "    res = requests.get(url)\n",
    "    \n",
    "    # Initializing BeautifulSoup to extract data from scrape\n",
    "    soup = BeautifulSoup(res.content, 'lxml')\n",
    "    \n",
    "    # Population\n",
    "    pop = soup.find('div', {'class':'row'}).text.split('\\n')[1].split(':')[3].strip().replace(',','')\n",
    "    pop = float(pop)\n",
    "    \n",
    "    # Cost of living\n",
    "    cost_of_living = soup.find('div', {'class':'row'}).text.split('\\n')[6].split(':')[1].split('(')[0].strip()\n",
    "    cost_of_living = float(cost_of_living)\n",
    "    \n",
    "    # Area (in sq. miles)\n",
    "    area = soup.find('div', {'class':'row'}).text.split('\\n')[7].split(':')[1].strip().split(\" \")[0]\n",
    "    area = float(area)\n",
    "    \n",
    "    # Median household income\n",
    "    save = \"\"\n",
    "    for s in soup.find_all('div', {'class':'hgraph'}):\n",
    "        if s.text.find('median household income') > 0:\n",
    "            save = s\n",
    "    a = save.text.split(\":\")[2]\n",
    "    med_income = re.findall('[^A-Z]*',a)[0].replace(',','').replace('$','')\n",
    "    med_income = float(med_income)\n",
    "    \n",
    "    # Putting saved data into the dictionary\n",
    "    dicto['zip'] = zip\n",
    "    dicto['population'] = pop\n",
    "    dicto['cost_of_living'] = cost_of_living\n",
    "    dicto['area'] = area\n",
    "    dicto['median_income'] = med_income\n",
    "    \n",
    "    # Returning dictionary\n",
    "    return dicto"
   ]
  },
  {
   "cell_type": "markdown",
   "metadata": {},
   "source": [
    "The following cells are just two trials of the function"
   ]
  },
  {
   "cell_type": "code",
   "execution_count": 113,
   "metadata": {},
   "outputs": [
    {
     "data": {
      "text/plain": [
       "{'zip': 60108,\n",
       " 'population': 23310.0,\n",
       " 'cost_of_living': 104.1,\n",
       " 'area': 7.2,\n",
       " 'median_income': 80305.0}"
      ]
     },
     "execution_count": 113,
     "metadata": {},
     "output_type": "execute_result"
    }
   ],
   "source": [
    "zip_data(60108)"
   ]
  },
  {
   "cell_type": "code",
   "execution_count": 114,
   "metadata": {},
   "outputs": [
    {
     "data": {
      "text/plain": [
       "{'zip': 80205,\n",
       " 'population': 33012.0,\n",
       " 'cost_of_living': 110.5,\n",
       " 'area': 4.6,\n",
       " 'median_income': 60235.0}"
      ]
     },
     "execution_count": 114,
     "metadata": {},
     "output_type": "execute_result"
    }
   ],
   "source": [
    "zip_data(80205)"
   ]
  },
  {
   "cell_type": "markdown",
   "metadata": {},
   "source": [
    "The code is saved in the 'zip_extract.py' file, located in the same folder as the notebooks."
   ]
  },
  {
   "cell_type": "markdown",
   "metadata": {},
   "source": [
    "This information will be used to inform our model when predicting the affluency of a neighborhood (by zip code) using data from Yelp. Specifically, the data scraped from www.city-data.com will be used to calculate the density of businesses in a zip code by area and by population. Cost of living and median income are metrics that will supplement out model going forward, as well."
   ]
  }
 ],
 "metadata": {
  "kernelspec": {
   "display_name": "Python 3",
   "language": "python",
   "name": "python3"
  },
  "language_info": {
   "codemirror_mode": {
    "name": "ipython",
    "version": 3
   },
   "file_extension": ".py",
   "mimetype": "text/x-python",
   "name": "python",
   "nbconvert_exporter": "python",
   "pygments_lexer": "ipython3",
   "version": "3.6.8"
  },
  "varInspector": {
   "cols": {
    "lenName": 16,
    "lenType": 16,
    "lenVar": 40
   },
   "kernels_config": {
    "python": {
     "delete_cmd_postfix": "",
     "delete_cmd_prefix": "del ",
     "library": "var_list.py",
     "varRefreshCmd": "print(var_dic_list())"
    },
    "r": {
     "delete_cmd_postfix": ") ",
     "delete_cmd_prefix": "rm(",
     "library": "var_list.r",
     "varRefreshCmd": "cat(var_dic_list()) "
    }
   },
   "types_to_exclude": [
    "module",
    "function",
    "builtin_function_or_method",
    "instance",
    "_Feature"
   ],
   "window_display": false
  }
 },
 "nbformat": 4,
 "nbformat_minor": 2
}
