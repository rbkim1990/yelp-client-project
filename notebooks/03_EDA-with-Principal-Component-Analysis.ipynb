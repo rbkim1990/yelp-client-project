{
 "cells": [
  {
   "cell_type": "markdown",
   "metadata": {},
   "source": [
    "<img src=\"http://imgur.com/1ZcRyrc.png\" style=\"float: left; margin: 20px; height: 70px\">\n",
    "\n",
    "# Client Project: Estimating Neighborhood Affluence with Yelp\n",
    "\n",
    "<i>\n",
    "                \n",
    "                Submitted by Shannon Bingham and Roy Kim\n",
    "</i>\n",
    "\n",
    " \n",
    "## Problem Statement\n",
    "The goal of the project is to estimate the affluence of a neighborhood based on the number of `$` of businesses and services (according to Yelp) in a given neighborhood (`$`, `$$`, `$$$`, `$$$$`). The project takes a list of zip codes as input and estimates the wealth of the locality. While traditional methods typically estimate wealth of a locality based on demographic characteristics (e.g. income or unemployment rate), the novelty of this approach is in its use of big data related to commercial activity and cost of product and services as an indicator for affluency.\n",
    "\n",
    "## Notebook Description\n",
    "_This notebook contains principal component analysis of the engineered data, in order to see relationships between features and also as a precursor for modeling._"
   ]
  },
  {
   "cell_type": "markdown",
   "metadata": {},
   "source": [
    "# Principal Component Analysis"
   ]
  },
  {
   "cell_type": "code",
   "execution_count": 27,
   "metadata": {},
   "outputs": [],
   "source": [
    "import pandas as pd\n",
    "import seaborn as sns\n",
    "import matplotlib.pyplot as plt\n",
    "from sklearn.decomposition import PCA\n",
    "from xgboost.sklearn import XGBRegressor\n",
    "from sklearn.model_selection import train_test_split, GridSearchCV\n",
    "from sklearn.preprocessing import StandardScaler\n",
    "from sklearn.metrics import mean_squared_error\n",
    "\n",
    "%matplotlib inline"
   ]
  },
  {
   "cell_type": "code",
   "execution_count": 28,
   "metadata": {},
   "outputs": [],
   "source": [
    "df = pd.read_csv('../data/composite_zip_WI.csv')"
   ]
  },
  {
   "cell_type": "code",
   "execution_count": 29,
   "metadata": {},
   "outputs": [
    {
     "data": {
      "text/html": [
       "<div>\n",
       "<style scoped>\n",
       "    .dataframe tbody tr th:only-of-type {\n",
       "        vertical-align: middle;\n",
       "    }\n",
       "\n",
       "    .dataframe tbody tr th {\n",
       "        vertical-align: top;\n",
       "    }\n",
       "\n",
       "    .dataframe thead th {\n",
       "        text-align: right;\n",
       "    }\n",
       "</style>\n",
       "<table border=\"1\" class=\"dataframe\">\n",
       "  <thead>\n",
       "    <tr style=\"text-align: right;\">\n",
       "      <th></th>\n",
       "      <th>zipcode</th>\n",
       "      <th>n_business</th>\n",
       "      <th>n_d1</th>\n",
       "      <th>n_d2</th>\n",
       "      <th>n_d3</th>\n",
       "      <th>n_d4</th>\n",
       "      <th>n_review</th>\n",
       "      <th>n_s1</th>\n",
       "      <th>n_s1plus</th>\n",
       "      <th>n_s2</th>\n",
       "      <th>...</th>\n",
       "      <th>n_s_gourmet</th>\n",
       "      <th>p_s_gourmet</th>\n",
       "      <th>p_ge_s2_gourmet</th>\n",
       "      <th>p_ge_s2plus_gourmet</th>\n",
       "      <th>p_ge_s3_gourmet</th>\n",
       "      <th>p_ge_s3plus_gourmet</th>\n",
       "      <th>p_ge_s4_gourmet</th>\n",
       "      <th>p_ge_s4plus_gourmet</th>\n",
       "      <th>p_ge_s5_gourmet</th>\n",
       "      <th>score_s_gourmet</th>\n",
       "    </tr>\n",
       "  </thead>\n",
       "  <tbody>\n",
       "    <tr>\n",
       "      <th>0</th>\n",
       "      <td>53004</td>\n",
       "      <td>64</td>\n",
       "      <td>26</td>\n",
       "      <td>37</td>\n",
       "      <td>0</td>\n",
       "      <td>1</td>\n",
       "      <td>1395</td>\n",
       "      <td>3</td>\n",
       "      <td>11</td>\n",
       "      <td>18</td>\n",
       "      <td>...</td>\n",
       "      <td>0</td>\n",
       "      <td>0.0</td>\n",
       "      <td>0.0</td>\n",
       "      <td>0.0</td>\n",
       "      <td>0.0</td>\n",
       "      <td>0.0</td>\n",
       "      <td>0.0</td>\n",
       "      <td>0.0</td>\n",
       "      <td>0</td>\n",
       "      <td>0.0</td>\n",
       "    </tr>\n",
       "    <tr>\n",
       "      <th>1</th>\n",
       "      <td>53006</td>\n",
       "      <td>8</td>\n",
       "      <td>5</td>\n",
       "      <td>3</td>\n",
       "      <td>0</td>\n",
       "      <td>0</td>\n",
       "      <td>123</td>\n",
       "      <td>0</td>\n",
       "      <td>8</td>\n",
       "      <td>0</td>\n",
       "      <td>...</td>\n",
       "      <td>0</td>\n",
       "      <td>0.0</td>\n",
       "      <td>0.0</td>\n",
       "      <td>0.0</td>\n",
       "      <td>0.0</td>\n",
       "      <td>0.0</td>\n",
       "      <td>0.0</td>\n",
       "      <td>0.0</td>\n",
       "      <td>0</td>\n",
       "      <td>0.0</td>\n",
       "    </tr>\n",
       "    <tr>\n",
       "      <th>2</th>\n",
       "      <td>53018</td>\n",
       "      <td>363</td>\n",
       "      <td>177</td>\n",
       "      <td>173</td>\n",
       "      <td>13</td>\n",
       "      <td>0</td>\n",
       "      <td>10591</td>\n",
       "      <td>30</td>\n",
       "      <td>156</td>\n",
       "      <td>243</td>\n",
       "      <td>...</td>\n",
       "      <td>1</td>\n",
       "      <td>0.0</td>\n",
       "      <td>1.0</td>\n",
       "      <td>1.0</td>\n",
       "      <td>0.0</td>\n",
       "      <td>0.0</td>\n",
       "      <td>0.0</td>\n",
       "      <td>0.0</td>\n",
       "      <td>0</td>\n",
       "      <td>2.5</td>\n",
       "    </tr>\n",
       "    <tr>\n",
       "      <th>3</th>\n",
       "      <td>53022</td>\n",
       "      <td>112</td>\n",
       "      <td>46</td>\n",
       "      <td>63</td>\n",
       "      <td>3</td>\n",
       "      <td>0</td>\n",
       "      <td>3469</td>\n",
       "      <td>0</td>\n",
       "      <td>40</td>\n",
       "      <td>291</td>\n",
       "      <td>...</td>\n",
       "      <td>1</td>\n",
       "      <td>0.0</td>\n",
       "      <td>1.0</td>\n",
       "      <td>1.0</td>\n",
       "      <td>1.0</td>\n",
       "      <td>1.0</td>\n",
       "      <td>0.0</td>\n",
       "      <td>0.0</td>\n",
       "      <td>0</td>\n",
       "      <td>3.5</td>\n",
       "    </tr>\n",
       "    <tr>\n",
       "      <th>4</th>\n",
       "      <td>53024</td>\n",
       "      <td>228</td>\n",
       "      <td>94</td>\n",
       "      <td>127</td>\n",
       "      <td>6</td>\n",
       "      <td>1</td>\n",
       "      <td>7464</td>\n",
       "      <td>3</td>\n",
       "      <td>148</td>\n",
       "      <td>327</td>\n",
       "      <td>...</td>\n",
       "      <td>3</td>\n",
       "      <td>0.0</td>\n",
       "      <td>1.0</td>\n",
       "      <td>1.0</td>\n",
       "      <td>1.0</td>\n",
       "      <td>1.0</td>\n",
       "      <td>0.0</td>\n",
       "      <td>0.0</td>\n",
       "      <td>0</td>\n",
       "      <td>10.5</td>\n",
       "    </tr>\n",
       "  </tbody>\n",
       "</table>\n",
       "<p>5 rows × 311 columns</p>\n",
       "</div>"
      ],
      "text/plain": [
       "   zipcode  n_business  n_d1  n_d2  n_d3  n_d4  n_review  n_s1  n_s1plus  \\\n",
       "0    53004          64    26    37     0     1      1395     3        11   \n",
       "1    53006           8     5     3     0     0       123     0         8   \n",
       "2    53018         363   177   173    13     0     10591    30       156   \n",
       "3    53022         112    46    63     3     0      3469     0        40   \n",
       "4    53024         228    94   127     6     1      7464     3       148   \n",
       "\n",
       "   n_s2       ...         n_s_gourmet  p_s_gourmet  p_ge_s2_gourmet  \\\n",
       "0    18       ...                   0          0.0              0.0   \n",
       "1     0       ...                   0          0.0              0.0   \n",
       "2   243       ...                   1          0.0              1.0   \n",
       "3   291       ...                   1          0.0              1.0   \n",
       "4   327       ...                   3          0.0              1.0   \n",
       "\n",
       "   p_ge_s2plus_gourmet  p_ge_s3_gourmet  p_ge_s3plus_gourmet  p_ge_s4_gourmet  \\\n",
       "0                  0.0              0.0                  0.0              0.0   \n",
       "1                  0.0              0.0                  0.0              0.0   \n",
       "2                  1.0              0.0                  0.0              0.0   \n",
       "3                  1.0              1.0                  1.0              0.0   \n",
       "4                  1.0              1.0                  1.0              0.0   \n",
       "\n",
       "   p_ge_s4plus_gourmet  p_ge_s5_gourmet  score_s_gourmet  \n",
       "0                  0.0                0              0.0  \n",
       "1                  0.0                0              0.0  \n",
       "2                  0.0                0              2.5  \n",
       "3                  0.0                0              3.5  \n",
       "4                  0.0                0             10.5  \n",
       "\n",
       "[5 rows x 311 columns]"
      ]
     },
     "execution_count": 29,
     "metadata": {},
     "output_type": "execute_result"
    }
   ],
   "source": [
    "df.head()"
   ]
  },
  {
   "cell_type": "code",
   "execution_count": 30,
   "metadata": {},
   "outputs": [],
   "source": [
    "df = df.drop(['average_agi', 'zipcode'],axis=1)"
   ]
  },
  {
   "cell_type": "code",
   "execution_count": 31,
   "metadata": {},
   "outputs": [],
   "source": [
    "pca = PCA()\n",
    "df_pca = pca.fit_transform(df)"
   ]
  },
  {
   "cell_type": "code",
   "execution_count": 32,
   "metadata": {},
   "outputs": [
    {
     "name": "stdout",
     "output_type": "stream",
     "text": [
      "Explained variance:             [9.99368627e-01 4.03299010e-04 1.82529014e-04 3.66797476e-05\n",
      " 4.20052853e-06 2.34639712e-06 1.30927752e-06 4.47530885e-07\n",
      " 3.34988323e-07 6.78410356e-08 5.59217019e-08 4.10337658e-08\n",
      " 1.96505022e-08 1.11883580e-08 7.56834440e-09 6.16135087e-09\n",
      " 3.09957704e-09 2.75545533e-09 2.07261200e-09 1.45035763e-09\n",
      " 1.13144469e-09 9.64892555e-10 6.81831973e-10 5.04747223e-10\n",
      " 4.69947733e-10 4.33496022e-10 3.38140153e-10 3.17129008e-10\n",
      " 2.90681204e-10 2.57157354e-10 2.38189559e-10 2.06474261e-10\n",
      " 1.91644464e-10 1.68441615e-10 1.66199323e-10 1.31443074e-10\n",
      " 1.18706380e-10 1.05546179e-10 9.19835311e-11 8.08824052e-11\n",
      " 7.80744466e-11 6.92988115e-11 6.10600654e-11 6.07839110e-11\n",
      " 5.60850933e-11 5.10500901e-11 4.77793273e-11 4.48044962e-11\n",
      " 4.38899806e-11 3.77903510e-11 3.34883825e-11 3.06497477e-11\n",
      " 2.83717477e-11 2.59118437e-11 2.34935230e-11 2.26737231e-11\n",
      " 2.08148127e-11 1.97410787e-11 1.89583074e-11 1.53633374e-11\n",
      " 1.49462158e-11 1.42003521e-11 1.28943061e-11 1.17098959e-11\n",
      " 1.08846069e-11 9.03548829e-12 8.51075315e-12 7.34069901e-12\n",
      " 7.18544966e-12 6.94099167e-12 6.29111172e-12 5.90509689e-12\n",
      " 5.07764541e-12 4.72794929e-12 4.48492968e-12 4.01697487e-12\n",
      " 3.48581884e-12 3.28245916e-12 2.94439557e-12 2.59234664e-12\n",
      " 2.45764221e-12 2.05531086e-12 1.77681118e-12 1.56266271e-12\n",
      " 1.47289214e-12 1.15751743e-12 1.08617052e-12 9.15075002e-13\n",
      " 6.83739617e-13 6.08827121e-13 4.70174330e-13 4.17851915e-13\n",
      " 2.39783052e-13 1.89993142e-13 1.21745154e-13 9.97706872e-33]\n",
      "Cumulative explained variance:  [0.99936863 0.99977193 0.99995445 0.99999113 0.99999534 0.99999768\n",
      " 0.99999899 0.99999944 0.99999977 0.99999984 0.9999999  0.99999994\n",
      " 0.99999996 0.99999997 0.99999998 0.99999998 0.99999999 0.99999999\n",
      " 0.99999999 0.99999999 0.99999999 0.99999999 0.99999999 1.\n",
      " 1.         1.         1.         1.         1.         1.\n",
      " 1.         1.         1.         1.         1.         1.\n",
      " 1.         1.         1.         1.         1.         1.\n",
      " 1.         1.         1.         1.         1.         1.\n",
      " 1.         1.         1.         1.         1.         1.\n",
      " 1.         1.         1.         1.         1.         1.\n",
      " 1.         1.         1.         1.         1.         1.\n",
      " 1.         1.         1.         1.         1.         1.\n",
      " 1.         1.         1.         1.         1.         1.\n",
      " 1.         1.         1.         1.         1.         1.\n",
      " 1.         1.         1.         1.         1.         1.\n",
      " 1.         1.         1.         1.         1.         1.        ]\n"
     ]
    }
   ],
   "source": [
    "# Examine explained variance.\n",
    "var_exp = pca.explained_variance_ratio_\n",
    "print('Explained variance:            ', var_exp)\n",
    "\n",
    "# Examine cumulative explained variance.\n",
    "cum_var_exp = np.cumsum(var_exp)\n",
    "print('Cumulative explained variance: ', cum_var_exp)"
   ]
  },
  {
   "cell_type": "markdown",
   "metadata": {},
   "source": [
    "We can explain 99.9% of the variance in the original data with just our first principal component. With this in mind, we can use the first principal component in our modeling at a later stage."
   ]
  },
  {
   "cell_type": "code",
   "execution_count": 33,
   "metadata": {},
   "outputs": [
    {
     "data": {
      "text/plain": [
       "(96,)"
      ]
     },
     "execution_count": 33,
     "metadata": {},
     "output_type": "execute_result"
    }
   ],
   "source": [
    "var_exp.shape"
   ]
  },
  {
   "cell_type": "code",
   "execution_count": 34,
   "metadata": {},
   "outputs": [
    {
     "data": {
      "image/png": "[encoded data removed]",
      "text/plain": [
       "<Figure size 1440x720 with 1 Axes>"
      ]
     },
     "metadata": {
      "needs_background": "light"
     },
     "output_type": "display_data"
    }
   ],
   "source": [
    "fig = plt.figure(figsize=(20,10))\n",
    "plt.bar(np.array(range(len(var_exp)))+1, \n",
    "        var_exp, \n",
    "        color='g', \n",
    "        label='explained variance')\n",
    "plt.plot(np.array(range(len(var_exp)))+1, \n",
    "         np.cumsum(var_exp), \n",
    "         label='cumulative explained variance')\n",
    "plt.legend(fontsize=16)\n",
    "plt.xlabel('component', fontsize=24)\n",
    "plt.ylabel('variance ratio', fontsize=24)\n",
    "plt.title('Explained variance by component', fontsize=36);"
   ]
  },
  {
   "cell_type": "code",
   "execution_count": 35,
   "metadata": {},
   "outputs": [
    {
     "data": {
      "text/html": [
       "<div>\n",
       "<style scoped>\n",
       "    .dataframe tbody tr th:only-of-type {\n",
       "        vertical-align: middle;\n",
       "    }\n",
       "\n",
       "    .dataframe tbody tr th {\n",
       "        vertical-align: top;\n",
       "    }\n",
       "\n",
       "    .dataframe thead th {\n",
       "        text-align: right;\n",
       "    }\n",
       "</style>\n",
       "<table border=\"1\" class=\"dataframe\">\n",
       "  <thead>\n",
       "    <tr style=\"text-align: right;\">\n",
       "      <th></th>\n",
       "      <th>component_1</th>\n",
       "      <th>component_2</th>\n",
       "      <th>component_3</th>\n",
       "      <th>component_4</th>\n",
       "      <th>component_5</th>\n",
       "      <th>component_6</th>\n",
       "      <th>component_7</th>\n",
       "      <th>component_8</th>\n",
       "      <th>component_9</th>\n",
       "      <th>component_10</th>\n",
       "      <th>...</th>\n",
       "      <th>component_87</th>\n",
       "      <th>component_88</th>\n",
       "      <th>component_89</th>\n",
       "      <th>component_90</th>\n",
       "      <th>component_91</th>\n",
       "      <th>component_92</th>\n",
       "      <th>component_93</th>\n",
       "      <th>component_94</th>\n",
       "      <th>component_95</th>\n",
       "      <th>component_96</th>\n",
       "    </tr>\n",
       "  </thead>\n",
       "  <tbody>\n",
       "    <tr>\n",
       "      <th>0</th>\n",
       "      <td>-39800.403096</td>\n",
       "      <td>116.580505</td>\n",
       "      <td>-276.865698</td>\n",
       "      <td>-77.151061</td>\n",
       "      <td>-55.615160</td>\n",
       "      <td>56.214189</td>\n",
       "      <td>-16.267303</td>\n",
       "      <td>-1.871638</td>\n",
       "      <td>2.254618</td>\n",
       "      <td>-9.372482</td>\n",
       "      <td>...</td>\n",
       "      <td>-0.124559</td>\n",
       "      <td>-0.071136</td>\n",
       "      <td>0.021684</td>\n",
       "      <td>0.012857</td>\n",
       "      <td>-0.053043</td>\n",
       "      <td>0.004412</td>\n",
       "      <td>-0.067628</td>\n",
       "      <td>-0.011723</td>\n",
       "      <td>-0.014458</td>\n",
       "      <td>7.587661e-12</td>\n",
       "    </tr>\n",
       "    <tr>\n",
       "      <th>1</th>\n",
       "      <td>-44782.181344</td>\n",
       "      <td>-194.205935</td>\n",
       "      <td>-353.059176</td>\n",
       "      <td>-199.271642</td>\n",
       "      <td>-62.640354</td>\n",
       "      <td>82.218920</td>\n",
       "      <td>-73.529242</td>\n",
       "      <td>-18.475520</td>\n",
       "      <td>13.864074</td>\n",
       "      <td>6.853474</td>\n",
       "      <td>...</td>\n",
       "      <td>-0.007670</td>\n",
       "      <td>0.158408</td>\n",
       "      <td>0.073416</td>\n",
       "      <td>0.006432</td>\n",
       "      <td>-0.036302</td>\n",
       "      <td>0.024216</td>\n",
       "      <td>-0.003700</td>\n",
       "      <td>0.011264</td>\n",
       "      <td>-0.005924</td>\n",
       "      <td>7.587661e-12</td>\n",
       "    </tr>\n",
       "    <tr>\n",
       "      <th>2</th>\n",
       "      <td>-5011.817899</td>\n",
       "      <td>400.072409</td>\n",
       "      <td>1171.357137</td>\n",
       "      <td>169.293169</td>\n",
       "      <td>-138.220218</td>\n",
       "      <td>-317.423462</td>\n",
       "      <td>15.706479</td>\n",
       "      <td>158.431870</td>\n",
       "      <td>32.974547</td>\n",
       "      <td>-6.148926</td>\n",
       "      <td>...</td>\n",
       "      <td>0.046246</td>\n",
       "      <td>-0.008715</td>\n",
       "      <td>0.023434</td>\n",
       "      <td>0.025192</td>\n",
       "      <td>-0.024763</td>\n",
       "      <td>0.019217</td>\n",
       "      <td>0.006360</td>\n",
       "      <td>0.008709</td>\n",
       "      <td>0.008029</td>\n",
       "      <td>7.587661e-12</td>\n",
       "    </tr>\n",
       "    <tr>\n",
       "      <th>3</th>\n",
       "      <td>-33035.798408</td>\n",
       "      <td>-75.622570</td>\n",
       "      <td>568.699875</td>\n",
       "      <td>-77.542181</td>\n",
       "      <td>171.028705</td>\n",
       "      <td>43.483008</td>\n",
       "      <td>-113.017373</td>\n",
       "      <td>33.081881</td>\n",
       "      <td>-97.875660</td>\n",
       "      <td>-4.982353</td>\n",
       "      <td>...</td>\n",
       "      <td>0.007113</td>\n",
       "      <td>-0.057504</td>\n",
       "      <td>0.041197</td>\n",
       "      <td>-0.108933</td>\n",
       "      <td>-0.026442</td>\n",
       "      <td>-0.039709</td>\n",
       "      <td>0.000838</td>\n",
       "      <td>0.011116</td>\n",
       "      <td>0.011681</td>\n",
       "      <td>7.587661e-12</td>\n",
       "    </tr>\n",
       "    <tr>\n",
       "      <th>4</th>\n",
       "      <td>-17661.592180</td>\n",
       "      <td>434.368194</td>\n",
       "      <td>1111.782877</td>\n",
       "      <td>-121.652633</td>\n",
       "      <td>108.818124</td>\n",
       "      <td>-136.479815</td>\n",
       "      <td>-115.235360</td>\n",
       "      <td>5.024301</td>\n",
       "      <td>-43.144977</td>\n",
       "      <td>-16.991967</td>\n",
       "      <td>...</td>\n",
       "      <td>0.052656</td>\n",
       "      <td>0.001794</td>\n",
       "      <td>-0.005681</td>\n",
       "      <td>0.022491</td>\n",
       "      <td>0.003894</td>\n",
       "      <td>-0.045229</td>\n",
       "      <td>0.001194</td>\n",
       "      <td>-0.011371</td>\n",
       "      <td>0.007936</td>\n",
       "      <td>7.587661e-12</td>\n",
       "    </tr>\n",
       "  </tbody>\n",
       "</table>\n",
       "<p>5 rows × 96 columns</p>\n",
       "</div>"
      ],
      "text/plain": [
       "    component_1  component_2  component_3  component_4  component_5  \\\n",
       "0 -39800.403096   116.580505  -276.865698   -77.151061   -55.615160   \n",
       "1 -44782.181344  -194.205935  -353.059176  -199.271642   -62.640354   \n",
       "2  -5011.817899   400.072409  1171.357137   169.293169  -138.220218   \n",
       "3 -33035.798408   -75.622570   568.699875   -77.542181   171.028705   \n",
       "4 -17661.592180   434.368194  1111.782877  -121.652633   108.818124   \n",
       "\n",
       "   component_6  component_7  component_8  component_9  component_10  \\\n",
       "0    56.214189   -16.267303    -1.871638     2.254618     -9.372482   \n",
       "1    82.218920   -73.529242   -18.475520    13.864074      6.853474   \n",
       "2  -317.423462    15.706479   158.431870    32.974547     -6.148926   \n",
       "3    43.483008  -113.017373    33.081881   -97.875660     -4.982353   \n",
       "4  -136.479815  -115.235360     5.024301   -43.144977    -16.991967   \n",
       "\n",
       "       ...       component_87  component_88  component_89  component_90  \\\n",
       "0      ...          -0.124559     -0.071136      0.021684      0.012857   \n",
       "1      ...          -0.007670      0.158408      0.073416      0.006432   \n",
       "2      ...           0.046246     -0.008715      0.023434      0.025192   \n",
       "3      ...           0.007113     -0.057504      0.041197     -0.108933   \n",
       "4      ...           0.052656      0.001794     -0.005681      0.022491   \n",
       "\n",
       "   component_91  component_92  component_93  component_94  component_95  \\\n",
       "0     -0.053043      0.004412     -0.067628     -0.011723     -0.014458   \n",
       "1     -0.036302      0.024216     -0.003700      0.011264     -0.005924   \n",
       "2     -0.024763      0.019217      0.006360      0.008709      0.008029   \n",
       "3     -0.026442     -0.039709      0.000838      0.011116      0.011681   \n",
       "4      0.003894     -0.045229      0.001194     -0.011371      0.007936   \n",
       "\n",
       "   component_96  \n",
       "0  7.587661e-12  \n",
       "1  7.587661e-12  \n",
       "2  7.587661e-12  \n",
       "3  7.587661e-12  \n",
       "4  7.587661e-12  \n",
       "\n",
       "[5 rows x 96 columns]"
      ]
     },
     "execution_count": 35,
     "metadata": {},
     "output_type": "execute_result"
    }
   ],
   "source": [
    "component_names = [\"component_\"+str(i+1) for i in range(len(var_exp))]\n",
    "svd_df = pd.DataFrame(df_pca, columns=component_names)\n",
    "svd_df.head()"
   ]
  },
  {
   "cell_type": "code",
   "execution_count": 36,
   "metadata": {},
   "outputs": [
    {
     "data": {
      "text/html": [
       "<div>\n",
       "<style scoped>\n",
       "    .dataframe tbody tr th:only-of-type {\n",
       "        vertical-align: middle;\n",
       "    }\n",
       "\n",
       "    .dataframe tbody tr th {\n",
       "        vertical-align: top;\n",
       "    }\n",
       "\n",
       "    .dataframe thead th {\n",
       "        text-align: right;\n",
       "    }\n",
       "</style>\n",
       "<table border=\"1\" class=\"dataframe\">\n",
       "  <thead>\n",
       "    <tr style=\"text-align: right;\">\n",
       "      <th></th>\n",
       "      <th>component_1</th>\n",
       "      <th>component_2</th>\n",
       "      <th>component_3</th>\n",
       "      <th>component_4</th>\n",
       "      <th>component_5</th>\n",
       "      <th>component_6</th>\n",
       "      <th>component_7</th>\n",
       "      <th>component_8</th>\n",
       "      <th>component_9</th>\n",
       "      <th>component_10</th>\n",
       "      <th>...</th>\n",
       "      <th>component_89</th>\n",
       "      <th>component_90</th>\n",
       "      <th>component_91</th>\n",
       "      <th>component_92</th>\n",
       "      <th>component_93</th>\n",
       "      <th>component_94</th>\n",
       "      <th>component_95</th>\n",
       "      <th>component_96</th>\n",
       "      <th>abs_component_1</th>\n",
       "      <th>abs_component_2</th>\n",
       "    </tr>\n",
       "  </thead>\n",
       "  <tbody>\n",
       "    <tr>\n",
       "      <th>n_business</th>\n",
       "      <td>0.002765</td>\n",
       "      <td>0.001903</td>\n",
       "      <td>0.043873</td>\n",
       "      <td>0.105122</td>\n",
       "      <td>0.056823</td>\n",
       "      <td>-0.318984</td>\n",
       "      <td>0.252563</td>\n",
       "      <td>-0.061630</td>\n",
       "      <td>-0.029612</td>\n",
       "      <td>-0.122221</td>\n",
       "      <td>...</td>\n",
       "      <td>-0.119637</td>\n",
       "      <td>0.083919</td>\n",
       "      <td>-0.019048</td>\n",
       "      <td>-0.029329</td>\n",
       "      <td>-0.043298</td>\n",
       "      <td>-0.005714</td>\n",
       "      <td>0.074067</td>\n",
       "      <td>0.688052</td>\n",
       "      <td>0.002765</td>\n",
       "      <td>0.001903</td>\n",
       "    </tr>\n",
       "    <tr>\n",
       "      <th>n_d1</th>\n",
       "      <td>0.001259</td>\n",
       "      <td>-0.003034</td>\n",
       "      <td>0.020394</td>\n",
       "      <td>0.058405</td>\n",
       "      <td>0.038577</td>\n",
       "      <td>-0.148118</td>\n",
       "      <td>0.108182</td>\n",
       "      <td>-0.034029</td>\n",
       "      <td>0.055419</td>\n",
       "      <td>0.112385</td>\n",
       "      <td>...</td>\n",
       "      <td>0.056269</td>\n",
       "      <td>-0.060209</td>\n",
       "      <td>0.028585</td>\n",
       "      <td>0.017352</td>\n",
       "      <td>0.049784</td>\n",
       "      <td>0.004134</td>\n",
       "      <td>-0.054967</td>\n",
       "      <td>-0.462719</td>\n",
       "      <td>0.001259</td>\n",
       "      <td>0.003034</td>\n",
       "    </tr>\n",
       "    <tr>\n",
       "      <th>n_d2</th>\n",
       "      <td>0.001375</td>\n",
       "      <td>0.004935</td>\n",
       "      <td>0.023182</td>\n",
       "      <td>0.045816</td>\n",
       "      <td>0.020622</td>\n",
       "      <td>-0.157313</td>\n",
       "      <td>0.131684</td>\n",
       "      <td>-0.035139</td>\n",
       "      <td>-0.088251</td>\n",
       "      <td>-0.192239</td>\n",
       "      <td>...</td>\n",
       "      <td>-0.006469</td>\n",
       "      <td>-0.036906</td>\n",
       "      <td>0.046418</td>\n",
       "      <td>0.008072</td>\n",
       "      <td>0.050941</td>\n",
       "      <td>0.001076</td>\n",
       "      <td>-0.046681</td>\n",
       "      <td>-0.232196</td>\n",
       "      <td>0.001375</td>\n",
       "      <td>0.004935</td>\n",
       "    </tr>\n",
       "    <tr>\n",
       "      <th>n_d3</th>\n",
       "      <td>0.000109</td>\n",
       "      <td>0.000078</td>\n",
       "      <td>0.000486</td>\n",
       "      <td>0.001032</td>\n",
       "      <td>-0.003930</td>\n",
       "      <td>-0.014261</td>\n",
       "      <td>0.011240</td>\n",
       "      <td>0.006171</td>\n",
       "      <td>0.004475</td>\n",
       "      <td>-0.033446</td>\n",
       "      <td>...</td>\n",
       "      <td>-0.068221</td>\n",
       "      <td>-0.001034</td>\n",
       "      <td>0.006332</td>\n",
       "      <td>0.057054</td>\n",
       "      <td>0.057230</td>\n",
       "      <td>0.067715</td>\n",
       "      <td>-0.060812</td>\n",
       "      <td>0.019042</td>\n",
       "      <td>0.000109</td>\n",
       "      <td>0.000078</td>\n",
       "    </tr>\n",
       "    <tr>\n",
       "      <th>n_d4</th>\n",
       "      <td>0.000022</td>\n",
       "      <td>-0.000088</td>\n",
       "      <td>-0.000297</td>\n",
       "      <td>-0.000005</td>\n",
       "      <td>0.001672</td>\n",
       "      <td>0.000777</td>\n",
       "      <td>0.001594</td>\n",
       "      <td>0.002416</td>\n",
       "      <td>-0.001212</td>\n",
       "      <td>-0.007176</td>\n",
       "      <td>...</td>\n",
       "      <td>0.055695</td>\n",
       "      <td>0.028283</td>\n",
       "      <td>-0.038379</td>\n",
       "      <td>-0.049063</td>\n",
       "      <td>-0.082003</td>\n",
       "      <td>-0.051679</td>\n",
       "      <td>0.078531</td>\n",
       "      <td>0.169545</td>\n",
       "      <td>0.000022</td>\n",
       "      <td>0.000088</td>\n",
       "    </tr>\n",
       "  </tbody>\n",
       "</table>\n",
       "<p>5 rows × 98 columns</p>\n",
       "</div>"
      ],
      "text/plain": [
       "            component_1  component_2  component_3  component_4  component_5  \\\n",
       "n_business     0.002765     0.001903     0.043873     0.105122     0.056823   \n",
       "n_d1           0.001259    -0.003034     0.020394     0.058405     0.038577   \n",
       "n_d2           0.001375     0.004935     0.023182     0.045816     0.020622   \n",
       "n_d3           0.000109     0.000078     0.000486     0.001032    -0.003930   \n",
       "n_d4           0.000022    -0.000088    -0.000297    -0.000005     0.001672   \n",
       "\n",
       "            component_6  component_7  component_8  component_9  component_10  \\\n",
       "n_business    -0.318984     0.252563    -0.061630    -0.029612     -0.122221   \n",
       "n_d1          -0.148118     0.108182    -0.034029     0.055419      0.112385   \n",
       "n_d2          -0.157313     0.131684    -0.035139    -0.088251     -0.192239   \n",
       "n_d3          -0.014261     0.011240     0.006171     0.004475     -0.033446   \n",
       "n_d4           0.000777     0.001594     0.002416    -0.001212     -0.007176   \n",
       "\n",
       "                 ...         component_89  component_90  component_91  \\\n",
       "n_business       ...            -0.119637      0.083919     -0.019048   \n",
       "n_d1             ...             0.056269     -0.060209      0.028585   \n",
       "n_d2             ...            -0.006469     -0.036906      0.046418   \n",
       "n_d3             ...            -0.068221     -0.001034      0.006332   \n",
       "n_d4             ...             0.055695      0.028283     -0.038379   \n",
       "\n",
       "            component_92  component_93  component_94  component_95  \\\n",
       "n_business     -0.029329     -0.043298     -0.005714      0.074067   \n",
       "n_d1            0.017352      0.049784      0.004134     -0.054967   \n",
       "n_d2            0.008072      0.050941      0.001076     -0.046681   \n",
       "n_d3            0.057054      0.057230      0.067715     -0.060812   \n",
       "n_d4           -0.049063     -0.082003     -0.051679      0.078531   \n",
       "\n",
       "            component_96  abs_component_1  abs_component_2  \n",
       "n_business      0.688052         0.002765         0.001903  \n",
       "n_d1           -0.462719         0.001259         0.003034  \n",
       "n_d2           -0.232196         0.001375         0.004935  \n",
       "n_d3            0.019042         0.000109         0.000078  \n",
       "n_d4            0.169545         0.000022         0.000088  \n",
       "\n",
       "[5 rows x 98 columns]"
      ]
     },
     "execution_count": 36,
     "metadata": {},
     "output_type": "execute_result"
    }
   ],
   "source": [
    "# Creating a DataFrame that holds the original components as rows\n",
    "# compared to the new features as columns\n",
    "loadings=pd.DataFrame(pca.components_,index=component_names,columns=df.columns).T\n",
    "\n",
    "# Creating two new columns for the absolute value of components 1 and 2\n",
    "loadings['abs_component_1'] = np.abs(loadings.component_1)\n",
    "loadings['abs_component_2'] = np.abs(loadings.component_2)\n",
    "loadings.head()"
   ]
  },
  {
   "cell_type": "code",
   "execution_count": 37,
   "metadata": {
    "scrolled": true
   },
   "outputs": [
    {
     "data": {
      "text/html": [
       "<div>\n",
       "<style scoped>\n",
       "    .dataframe tbody tr th:only-of-type {\n",
       "        vertical-align: middle;\n",
       "    }\n",
       "\n",
       "    .dataframe tbody tr th {\n",
       "        vertical-align: top;\n",
       "    }\n",
       "\n",
       "    .dataframe thead th {\n",
       "        text-align: right;\n",
       "    }\n",
       "</style>\n",
       "<table border=\"1\" class=\"dataframe\">\n",
       "  <thead>\n",
       "    <tr style=\"text-align: right;\">\n",
       "      <th></th>\n",
       "      <th>component_1</th>\n",
       "    </tr>\n",
       "  </thead>\n",
       "  <tbody>\n",
       "    <tr>\n",
       "      <th>score_s</th>\n",
       "      <td>0.958892</td>\n",
       "    </tr>\n",
       "    <tr>\n",
       "      <th>n_review</th>\n",
       "      <td>0.250244</td>\n",
       "    </tr>\n",
       "    <tr>\n",
       "      <th>n_s4</th>\n",
       "      <td>0.103382</td>\n",
       "    </tr>\n",
       "    <tr>\n",
       "      <th>n_s3plus</th>\n",
       "      <td>0.063951</td>\n",
       "    </tr>\n",
       "    <tr>\n",
       "      <th>n_s4plus</th>\n",
       "      <td>0.050544</td>\n",
       "    </tr>\n",
       "    <tr>\n",
       "      <th>n_s3</th>\n",
       "      <td>0.021918</td>\n",
       "    </tr>\n",
       "    <tr>\n",
       "      <th>n_s2plus</th>\n",
       "      <td>0.006789</td>\n",
       "    </tr>\n",
       "    <tr>\n",
       "      <th>score_d</th>\n",
       "      <td>0.004423</td>\n",
       "    </tr>\n",
       "    <tr>\n",
       "      <th>n_business</th>\n",
       "      <td>0.002765</td>\n",
       "    </tr>\n",
       "    <tr>\n",
       "      <th>score_s_categories</th>\n",
       "      <td>0.002475</td>\n",
       "    </tr>\n",
       "  </tbody>\n",
       "</table>\n",
       "</div>"
      ],
      "text/plain": [
       "                    component_1\n",
       "score_s                0.958892\n",
       "n_review               0.250244\n",
       "n_s4                   0.103382\n",
       "n_s3plus               0.063951\n",
       "n_s4plus               0.050544\n",
       "n_s3                   0.021918\n",
       "n_s2plus               0.006789\n",
       "score_d                0.004423\n",
       "n_business             0.002765\n",
       "score_s_categories     0.002475"
      ]
     },
     "execution_count": 37,
     "metadata": {},
     "output_type": "execute_result"
    }
   ],
   "source": [
    "# Retrieving the features that explains the most variance in the first component\n",
    "loadings.sort_values('abs_component_1',ascending=False).head(10)[['component_1']]"
   ]
  },
  {
   "cell_type": "code",
   "execution_count": 38,
   "metadata": {},
   "outputs": [
    {
     "data": {
      "text/html": [
       "<div>\n",
       "<style scoped>\n",
       "    .dataframe tbody tr th:only-of-type {\n",
       "        vertical-align: middle;\n",
       "    }\n",
       "\n",
       "    .dataframe tbody tr th {\n",
       "        vertical-align: top;\n",
       "    }\n",
       "\n",
       "    .dataframe thead th {\n",
       "        text-align: right;\n",
       "    }\n",
       "</style>\n",
       "<table border=\"1\" class=\"dataframe\">\n",
       "  <thead>\n",
       "    <tr style=\"text-align: right;\">\n",
       "      <th></th>\n",
       "      <th>component_2</th>\n",
       "    </tr>\n",
       "  </thead>\n",
       "  <tbody>\n",
       "    <tr>\n",
       "      <th>n_s4</th>\n",
       "      <td>-0.784719</td>\n",
       "    </tr>\n",
       "    <tr>\n",
       "      <th>n_s4plus</th>\n",
       "      <td>0.589657</td>\n",
       "    </tr>\n",
       "    <tr>\n",
       "      <th>n_s3plus</th>\n",
       "      <td>0.170379</td>\n",
       "    </tr>\n",
       "    <tr>\n",
       "      <th>score_s</th>\n",
       "      <td>0.054646</td>\n",
       "    </tr>\n",
       "    <tr>\n",
       "      <th>n_review</th>\n",
       "      <td>-0.046278</td>\n",
       "    </tr>\n",
       "    <tr>\n",
       "      <th>n_s2plus</th>\n",
       "      <td>-0.042140</td>\n",
       "    </tr>\n",
       "    <tr>\n",
       "      <th>n_s1plus</th>\n",
       "      <td>0.015166</td>\n",
       "    </tr>\n",
       "    <tr>\n",
       "      <th>n_s3</th>\n",
       "      <td>-0.008262</td>\n",
       "    </tr>\n",
       "    <tr>\n",
       "      <th>n_s5</th>\n",
       "      <td>0.007498</td>\n",
       "    </tr>\n",
       "    <tr>\n",
       "      <th>n_s2</th>\n",
       "      <td>0.007495</td>\n",
       "    </tr>\n",
       "  </tbody>\n",
       "</table>\n",
       "</div>"
      ],
      "text/plain": [
       "          component_2\n",
       "n_s4        -0.784719\n",
       "n_s4plus     0.589657\n",
       "n_s3plus     0.170379\n",
       "score_s      0.054646\n",
       "n_review    -0.046278\n",
       "n_s2plus    -0.042140\n",
       "n_s1plus     0.015166\n",
       "n_s3        -0.008262\n",
       "n_s5         0.007498\n",
       "n_s2         0.007495"
      ]
     },
     "execution_count": 38,
     "metadata": {},
     "output_type": "execute_result"
    }
   ],
   "source": [
    "# Retrieving the features that explains the most variance in the first component\n",
    "loadings.sort_values('abs_component_2',ascending=False).head(10)[['component_2']]"
   ]
  },
  {
   "cell_type": "code",
   "execution_count": 39,
   "metadata": {},
   "outputs": [
    {
     "data": {
      "text/plain": [
       "<matplotlib.legend.Legend at 0x124390828>"
      ]
     },
     "execution_count": 39,
     "metadata": {},
     "output_type": "execute_result"
    },
    {
     "data": {
      "image/png": "[encoded data removed]",
      "text/plain": [
       "<Figure size 1440x720 with 1 Axes>"
      ]
     },
     "metadata": {
      "needs_background": "light"
     },
     "output_type": "display_data"
    }
   ],
   "source": [
    "plt.figure(figsize=(20,10))\n",
    "plt.scatter(svd_df.component_1, svd_df.component_2, c='blue')\n",
    "plt.xlabel(f\"{', '.join(loadings.sort_values('abs_component_1',ascending=False).head(5)[['component_1']].index)}\",\n",
    "          fontsize=20)\n",
    "plt.ylabel(f\"{', '.join(loadings.sort_values('abs_component_2',ascending=False).head(5)[['component_2']].index)}\",\n",
    "          fontsize=20)\n",
    "plt.title('First two components of SVD', fontsize=36)\n",
    "plt.legend(['Component 1', 'Component 2'], fontsize=16)"
   ]
  },
  {
   "cell_type": "markdown",
   "metadata": {},
   "source": [
    "# Modeling with Principal Component Analysis"
   ]
  },
  {
   "cell_type": "code",
   "execution_count": 40,
   "metadata": {},
   "outputs": [],
   "source": [
    "df_eval = pd.read_csv('../data/composite_zip_WI.csv')"
   ]
  },
  {
   "cell_type": "code",
   "execution_count": 41,
   "metadata": {},
   "outputs": [],
   "source": [
    "X = df_eval.drop(['average_agi', 'zipcode'],axis=1)\n",
    "y = df_eval['average_agi']"
   ]
  },
  {
   "cell_type": "code",
   "execution_count": 42,
   "metadata": {},
   "outputs": [],
   "source": [
    "X_train, X_test, y_train, y_test = train_test_split(X,y,random_state=42)"
   ]
  },
  {
   "cell_type": "code",
   "execution_count": 43,
   "metadata": {},
   "outputs": [
    {
     "name": "stderr",
     "output_type": "stream",
     "text": [
      "/anaconda3/lib/python3.6/site-packages/sklearn/preprocessing/data.py:625: DataConversionWarning: Data with input dtype int64, float64 were all converted to float64 by StandardScaler.\n",
      "  return self.partial_fit(X, y)\n",
      "/anaconda3/lib/python3.6/site-packages/sklearn/base.py:462: DataConversionWarning: Data with input dtype int64, float64 were all converted to float64 by StandardScaler.\n",
      "  return self.fit(X, **fit_params).transform(X)\n",
      "/anaconda3/lib/python3.6/site-packages/ipykernel_launcher.py:3: DataConversionWarning: Data with input dtype int64, float64 were all converted to float64 by StandardScaler.\n",
      "  This is separate from the ipykernel package so we can avoid doing imports until\n"
     ]
    }
   ],
   "source": [
    "ss = StandardScaler()\n",
    "X_train = pd.DataFrame(ss.fit_transform(X_train))\n",
    "X_test = pd.DataFrame(ss.transform(X_test))"
   ]
  },
  {
   "cell_type": "code",
   "execution_count": 44,
   "metadata": {},
   "outputs": [],
   "source": [
    "pca = PCA(n_components=1)\n",
    "Z_train = pca.fit_transform(X_train)\n",
    "Z_test = pca.transform(X_test)"
   ]
  },
  {
   "cell_type": "code",
   "execution_count": 45,
   "metadata": {},
   "outputs": [
    {
     "name": "stdout",
     "output_type": "stream",
     "text": [
      "Fitting 5 folds for each of 96 candidates, totalling 480 fits\n"
     ]
    },
    {
     "name": "stderr",
     "output_type": "stream",
     "text": [
      "[Parallel(n_jobs=1)]: Using backend SequentialBackend with 1 concurrent workers.\n",
      "[Parallel(n_jobs=1)]: Done 480 out of 480 | elapsed:    3.1s finished\n",
      "/anaconda3/lib/python3.6/site-packages/sklearn/model_selection/_search.py:841: DeprecationWarning: The default of the `iid` parameter will change from True to False in version 0.22 and will be removed in 0.24. This will change numeric results when test-set sizes are unequal.\n",
      "  DeprecationWarning)\n"
     ]
    },
    {
     "data": {
      "text/plain": [
       "GridSearchCV(cv=5, error_score='raise-deprecating',\n",
       "       estimator=XGBRegressor(base_score=0.5, booster='gbtree', colsample_bylevel=1,\n",
       "       colsample_bytree=1, gamma=0, learning_rate=0.1, max_delta_step=0,\n",
       "       max_depth=3, min_child_weight=1, missing=None, n_estimators=100,\n",
       "       n_jobs=1, nthread=None, objective='reg:linear', random_state=0,\n",
       "       reg_alpha=0, reg_lambda=1, scale_pos_weight=1, seed=None,\n",
       "       silent=True, subsample=1),\n",
       "       fit_params=None, iid='warn', n_jobs=None,\n",
       "       param_grid={'eta': [0.1, 0.3], 'min_child_weight': [1, 2, 3], 'max_depth': [3, 5, 7, 9], 'colsample_bytree': [0.5, 0.7, 0.9, 1]},\n",
       "       pre_dispatch='2*n_jobs', refit=True, return_train_score=True,\n",
       "       scoring=None, verbose=1)"
      ]
     },
     "execution_count": 45,
     "metadata": {},
     "output_type": "execute_result"
    }
   ],
   "source": [
    "# XGBoost parameters that will be gridsearched over\n",
    "xgb_params = {\n",
    "    'eta' : [0.1,0.3],\n",
    "    'min_child_weight' : [1, 2, 3],\n",
    "    'max_depth' : [3, 5 ,7, 9],\n",
    "    'colsample_bytree' : [.5, .7, .9, 1]\n",
    "}\n",
    "\n",
    "# Initializing GridSearch over XGBoost\n",
    "grid = GridSearchCV(\n",
    "    XGBRegressor(),\n",
    "    xgb_params,\n",
    "    cv = 5,\n",
    "    verbose = 1,\n",
    "    return_train_score = True\n",
    ")\n",
    "\n",
    "# Fitting the model\n",
    "grid.fit(Z_train, y_train)"
   ]
  },
  {
   "cell_type": "code",
   "execution_count": 46,
   "metadata": {},
   "outputs": [
    {
     "data": {
      "text/plain": [
       "{'colsample_bytree': 0.5, 'eta': 0.1, 'max_depth': 3, 'min_child_weight': 3}"
      ]
     },
     "execution_count": 46,
     "metadata": {},
     "output_type": "execute_result"
    }
   ],
   "source": [
    "# The best_params_ attribute shows the highest scoring \n",
    "# hyperparameters that GridSearch found after fitting\n",
    "grid.best_params_"
   ]
  },
  {
   "cell_type": "code",
   "execution_count": 47,
   "metadata": {},
   "outputs": [
    {
     "data": {
      "text/plain": [
       "-0.9864647894662776"
      ]
     },
     "execution_count": 47,
     "metadata": {},
     "output_type": "execute_result"
    }
   ],
   "source": [
    "# The best_score_ is the highest R2 score after fitting\n",
    "# of all the hyperparameter combinations \n",
    "grid.best_score_"
   ]
  },
  {
   "cell_type": "code",
   "execution_count": 48,
   "metadata": {},
   "outputs": [
    {
     "name": "stdout",
     "output_type": "stream",
     "text": [
      "18277.824\n"
     ]
    }
   ],
   "source": [
    "# Using the best parameters, I made a list of predictions to compare to the test split\n",
    "y_hat = grid.predict(Z_test)\n",
    "\n",
    "# Getting the RMSE of test split vs. predictions\n",
    "rmse = round(mean_squared_error(y_test,y_hat) ** 0.5, 3)\n",
    "print(rmse)"
   ]
  },
  {
   "cell_type": "code",
   "execution_count": 51,
   "metadata": {
    "scrolled": false
   },
   "outputs": [
    {
     "data": {
      "image/png": "[encoded data removed]",
      "text/plain": [
       "<Figure size 720x576 with 1 Axes>"
      ]
     },
     "metadata": {},
     "output_type": "display_data"
    }
   ],
   "source": [
    "# Graphing true values vs. predicted values\n",
    "plt.figure(figsize=(10,8), facecolor='w')\n",
    "plt.title('Actual AGI vs. Predicted AGI', fontsize = 20)\n",
    "plt.ylabel('Actual AGI', fontsize = 20)\n",
    "plt.xlabel('Predicted AGI', fontsize = 20)\n",
    "plt.plot(np.unique(y_hat), \n",
    "         np.unique(y_hat),\n",
    "         color = 'red')\n",
    "plt.scatter(y_hat, y_test);\n",
    "# plt.savefig('../images/xgboost1.png', bbox_inches='tight')"
   ]
  },
  {
   "cell_type": "code",
   "execution_count": null,
   "metadata": {},
   "outputs": [],
   "source": []
  }
 ],
 "metadata": {
  "kernelspec": {
   "display_name": "Python 3",
   "language": "python",
   "name": "python3"
  },
  "language_info": {
   "codemirror_mode": {
    "name": "ipython",
    "version": 3
   },
   "file_extension": ".py",
   "mimetype": "text/x-python",
   "name": "python",
   "nbconvert_exporter": "python",
   "pygments_lexer": "ipython3",
   "version": "3.6.8"
  },
  "varInspector": {
   "cols": {
    "lenName": 16,
    "lenType": 16,
    "lenVar": 40
   },
   "kernels_config": {
    "python": {
     "delete_cmd_postfix": "",
     "delete_cmd_prefix": "del ",
     "library": "var_list.py",
     "varRefreshCmd": "print(var_dic_list())"
    },
    "r": {
     "delete_cmd_postfix": ") ",
     "delete_cmd_prefix": "rm(",
     "library": "var_list.r",
     "varRefreshCmd": "cat(var_dic_list()) "
    }
   },
   "types_to_exclude": [
    "module",
    "function",
    "builtin_function_or_method",
    "instance",
    "_Feature"
   ],
   "window_display": false
  }
 },
 "nbformat": 4,
 "nbformat_minor": 2
}
